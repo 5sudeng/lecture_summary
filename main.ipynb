{
  "cells": [
    {
      "cell_type": "markdown",
      "metadata": {
        "id": "_6FixZOl1yrj"
      },
      "source": [
        "# 1. 강의계획서 요약"
      ]
    },
    {
      "cell_type": "code",
      "execution_count": null,
      "metadata": {
        "id": "P6BgflH31yrm",
        "outputId": "c7f23b41-fea4-4fe4-caee-9a452c75b880"
      },
      "outputs": [
        {
          "name": "stderr",
          "output_type": "stream",
          "text": [
            "  Running command git clone --filter=blob:none --quiet https://github.com/haven-jeon/PyKoSpacing.git 'C:\\Users\\JeongWan\\AppData\\Local\\Temp\\pip-req-build-i1w964vf'\n"
          ]
        },
        {
          "name": "stdout",
          "output_type": "stream",
          "text": [
            "Collecting git+https://github.com/haven-jeon/PyKoSpacing.git\n",
            "  Cloning https://github.com/haven-jeon/PyKoSpacing.git to c:\\users\\jeongwan\\appdata\\local\\temp\\pip-req-build-i1w964vf\n",
            "  Resolved https://github.com/haven-jeon/PyKoSpacing.git to commit 1f8d11c59ac93525432f164e4c237ece4e298691\n",
            "  Preparing metadata (setup.py): started\n",
            "  Preparing metadata (setup.py): finished with status 'done'\n",
            "Collecting tensorflow==2.9.3\n",
            "  Downloading tensorflow-2.9.3-cp39-cp39-win_amd64.whl (444.1 MB)\n",
            "     -------------------------------------- 444.1/444.1 MB 2.7 MB/s eta 0:00:00\n",
            "Collecting h5py==3.1.0\n",
            "  Downloading h5py-3.1.0-cp39-cp39-win_amd64.whl (2.7 MB)\n",
            "     ---------------------------------------- 2.7/2.7 MB 7.2 MB/s eta 0:00:00\n",
            "Collecting argparse>=1.4.0\n",
            "  Downloading argparse-1.4.0-py2.py3-none-any.whl (23 kB)\n",
            "Requirement already satisfied: numpy>=1.19.3 in c:\\users\\jeongwan\\anaconda3\\lib\\site-packages (from h5py==3.1.0->pykospacing==0.5) (1.20.3)\n",
            "Requirement already satisfied: six>=1.12.0 in c:\\users\\jeongwan\\anaconda3\\lib\\site-packages (from tensorflow==2.9.3->pykospacing==0.5) (1.16.0)\n",
            "Collecting opt-einsum>=2.3.2\n",
            "  Using cached opt_einsum-3.3.0-py3-none-any.whl (65 kB)\n",
            "Collecting protobuf<3.20,>=3.9.2\n",
            "  Downloading protobuf-3.19.6-cp39-cp39-win_amd64.whl (895 kB)\n",
            "     -------------------------------------- 895.9/895.9 kB 7.1 MB/s eta 0:00:00\n",
            "Collecting keras-preprocessing>=1.1.1\n",
            "  Using cached Keras_Preprocessing-1.1.2-py2.py3-none-any.whl (42 kB)\n",
            "Collecting flatbuffers<2,>=1.12\n",
            "  Using cached flatbuffers-1.12-py2.py3-none-any.whl (15 kB)\n",
            "Requirement already satisfied: wrapt>=1.11.0 in c:\\users\\jeongwan\\anaconda3\\lib\\site-packages (from tensorflow==2.9.3->pykospacing==0.5) (1.12.1)\n",
            "Collecting termcolor>=1.1.0\n",
            "  Downloading termcolor-2.1.1-py3-none-any.whl (6.2 kB)\n",
            "Requirement already satisfied: typing-extensions>=3.6.6 in c:\\users\\jeongwan\\anaconda3\\lib\\site-packages (from tensorflow==2.9.3->pykospacing==0.5) (3.10.0.2)\n",
            "Requirement already satisfied: setuptools in c:\\users\\jeongwan\\anaconda3\\lib\\site-packages (from tensorflow==2.9.3->pykospacing==0.5) (58.0.4)\n",
            "Collecting tensorflow-io-gcs-filesystem>=0.23.1\n",
            "  Downloading tensorflow_io_gcs_filesystem-0.28.0-cp39-cp39-win_amd64.whl (1.5 MB)\n",
            "     ---------------------------------------- 1.5/1.5 MB 7.3 MB/s eta 0:00:00\n",
            "Collecting keras<2.10.0,>=2.9.0rc0\n",
            "  Using cached keras-2.9.0-py2.py3-none-any.whl (1.6 MB)\n",
            "Collecting grpcio<2.0,>=1.24.3\n",
            "  Downloading grpcio-1.51.1-cp39-cp39-win_amd64.whl (3.7 MB)\n",
            "     ---------------------------------------- 3.7/3.7 MB 6.0 MB/s eta 0:00:00\n",
            "Collecting absl-py>=1.0.0\n",
            "  Downloading absl_py-1.3.0-py3-none-any.whl (124 kB)\n",
            "     -------------------------------------- 124.6/124.6 kB 7.1 MB/s eta 0:00:00\n",
            "Collecting libclang>=13.0.0\n",
            "  Downloading libclang-14.0.6-py2.py3-none-win_amd64.whl (14.2 MB)\n",
            "     ---------------------------------------- 14.2/14.2 MB 8.1 MB/s eta 0:00:00\n",
            "Collecting tensorboard<2.10,>=2.9\n",
            "  Using cached tensorboard-2.9.1-py3-none-any.whl (5.8 MB)\n",
            "Collecting tensorflow-estimator<2.10.0,>=2.9.0rc0\n",
            "  Using cached tensorflow_estimator-2.9.0-py2.py3-none-any.whl (438 kB)\n",
            "Collecting gast<=0.4.0,>=0.2.1\n",
            "  Using cached gast-0.4.0-py3-none-any.whl (9.8 kB)\n",
            "Collecting google-pasta>=0.1.1\n",
            "  Using cached google_pasta-0.2.0-py3-none-any.whl (57 kB)\n",
            "Requirement already satisfied: packaging in c:\\users\\jeongwan\\anaconda3\\lib\\site-packages (from tensorflow==2.9.3->pykospacing==0.5) (21.0)\n",
            "Collecting astunparse>=1.6.0\n",
            "  Using cached astunparse-1.6.3-py2.py3-none-any.whl (12 kB)\n",
            "Requirement already satisfied: wheel<1.0,>=0.23.0 in c:\\users\\jeongwan\\anaconda3\\lib\\site-packages (from astunparse>=1.6.0->tensorflow==2.9.3->pykospacing==0.5) (0.37.0)\n",
            "Requirement already satisfied: werkzeug>=1.0.1 in c:\\users\\jeongwan\\anaconda3\\lib\\site-packages (from tensorboard<2.10,>=2.9->tensorflow==2.9.3->pykospacing==0.5) (2.0.2)\n",
            "Collecting markdown>=2.6.8\n",
            "  Using cached Markdown-3.4.1-py3-none-any.whl (93 kB)\n",
            "Collecting google-auth<3,>=1.6.3\n",
            "  Downloading google_auth-2.15.0-py2.py3-none-any.whl (177 kB)\n",
            "     -------------------------------------- 177.0/177.0 kB 5.4 MB/s eta 0:00:00\n",
            "Collecting google-auth-oauthlib<0.5,>=0.4.1\n",
            "  Using cached google_auth_oauthlib-0.4.6-py2.py3-none-any.whl (18 kB)\n",
            "Requirement already satisfied: requests<3,>=2.21.0 in c:\\users\\jeongwan\\anaconda3\\lib\\site-packages (from tensorboard<2.10,>=2.9->tensorflow==2.9.3->pykospacing==0.5) (2.26.0)\n",
            "Collecting tensorboard-plugin-wit>=1.6.0\n",
            "  Using cached tensorboard_plugin_wit-1.8.1-py3-none-any.whl (781 kB)\n",
            "Collecting tensorboard-data-server<0.7.0,>=0.6.0\n",
            "  Using cached tensorboard_data_server-0.6.1-py3-none-any.whl (2.4 kB)\n",
            "Requirement already satisfied: pyparsing>=2.0.2 in c:\\users\\jeongwan\\anaconda3\\lib\\site-packages (from packaging->tensorflow==2.9.3->pykospacing==0.5) (3.0.4)\n",
            "Collecting cachetools<6.0,>=2.0.0\n",
            "  Using cached cachetools-5.2.0-py3-none-any.whl (9.3 kB)\n",
            "Collecting pyasn1-modules>=0.2.1\n",
            "  Using cached pyasn1_modules-0.2.8-py2.py3-none-any.whl (155 kB)\n",
            "Collecting rsa<5,>=3.1.4\n",
            "  Using cached rsa-4.9-py3-none-any.whl (34 kB)\n",
            "Collecting requests-oauthlib>=0.7.0\n",
            "  Using cached requests_oauthlib-1.3.1-py2.py3-none-any.whl (23 kB)\n",
            "Requirement already satisfied: importlib-metadata>=4.4 in c:\\users\\jeongwan\\anaconda3\\lib\\site-packages (from markdown>=2.6.8->tensorboard<2.10,>=2.9->tensorflow==2.9.3->pykospacing==0.5) (4.8.1)\n",
            "Requirement already satisfied: charset-normalizer~=2.0.0 in c:\\users\\jeongwan\\anaconda3\\lib\\site-packages (from requests<3,>=2.21.0->tensorboard<2.10,>=2.9->tensorflow==2.9.3->pykospacing==0.5) (2.0.4)\n",
            "Requirement already satisfied: idna<4,>=2.5 in c:\\users\\jeongwan\\anaconda3\\lib\\site-packages (from requests<3,>=2.21.0->tensorboard<2.10,>=2.9->tensorflow==2.9.3->pykospacing==0.5) (3.2)\n",
            "Requirement already satisfied: certifi>=2017.4.17 in c:\\users\\jeongwan\\anaconda3\\lib\\site-packages (from requests<3,>=2.21.0->tensorboard<2.10,>=2.9->tensorflow==2.9.3->pykospacing==0.5) (2021.10.8)\n",
            "Requirement already satisfied: urllib3<1.27,>=1.21.1 in c:\\users\\jeongwan\\anaconda3\\lib\\site-packages (from requests<3,>=2.21.0->tensorboard<2.10,>=2.9->tensorflow==2.9.3->pykospacing==0.5) (1.26.7)\n",
            "Requirement already satisfied: zipp>=0.5 in c:\\users\\jeongwan\\anaconda3\\lib\\site-packages (from importlib-metadata>=4.4->markdown>=2.6.8->tensorboard<2.10,>=2.9->tensorflow==2.9.3->pykospacing==0.5) (3.6.0)\n",
            "Collecting pyasn1<0.5.0,>=0.4.6\n",
            "  Using cached pyasn1-0.4.8-py2.py3-none-any.whl (77 kB)\n",
            "Collecting oauthlib>=3.0.0\n",
            "  Downloading oauthlib-3.2.2-py3-none-any.whl (151 kB)\n",
            "     -------------------------------------- 151.7/151.7 kB 4.6 MB/s eta 0:00:00\n",
            "Building wheels for collected packages: pykospacing\n",
            "  Building wheel for pykospacing (setup.py): started\n",
            "  Building wheel for pykospacing (setup.py): finished with status 'done'\n",
            "  Created wheel for pykospacing: filename=pykospacing-0.5-py3-none-any.whl size=2268668 sha256=e9b4cc9e95e65bd55bb71ba96eee90f0c5bb3aa9ab0fcad70f8d22df486e7e8e\n",
            "  Stored in directory: C:\\Users\\JeongWan\\AppData\\Local\\Temp\\pip-ephem-wheel-cache-xoc7snm_\\wheels\\ca\\f2\\8d\\94e29f54f44b61ffe18da21ed0199d43042bd1350f44107517\n",
            "Successfully built pykospacing\n",
            "Installing collected packages: tensorboard-plugin-wit, pyasn1, libclang, keras, flatbuffers, argparse, termcolor, tensorflow-io-gcs-filesystem, tensorflow-estimator, tensorboard-data-server, rsa, pyasn1-modules, protobuf, opt-einsum, oauthlib, keras-preprocessing, h5py, grpcio, google-pasta, gast, cachetools, astunparse, absl-py, requests-oauthlib, markdown, google-auth, google-auth-oauthlib, tensorboard, tensorflow, pykospacing\n",
            "  Attempting uninstall: h5py\n",
            "    Found existing installation: h5py 3.2.1\n",
            "    Uninstalling h5py-3.2.1:\n",
            "      Successfully uninstalled h5py-3.2.1\n",
            "Successfully installed absl-py-1.3.0 argparse-1.4.0 astunparse-1.6.3 cachetools-5.2.0 flatbuffers-1.12 gast-0.4.0 google-auth-2.15.0 google-auth-oauthlib-0.4.6 google-pasta-0.2.0 grpcio-1.51.1 h5py-3.1.0 keras-2.9.0 keras-preprocessing-1.1.2 libclang-14.0.6 markdown-3.4.1 oauthlib-3.2.2 opt-einsum-3.3.0 protobuf-3.19.6 pyasn1-0.4.8 pyasn1-modules-0.2.8 pykospacing-0.5 requests-oauthlib-1.3.1 rsa-4.9 tensorboard-2.9.1 tensorboard-data-server-0.6.1 tensorboard-plugin-wit-1.8.1 tensorflow-2.9.3 tensorflow-estimator-2.9.0 tensorflow-io-gcs-filesystem-0.28.0 termcolor-2.1.1\n",
            "\n",
            "[notice] A new release of pip available: 22.2 -> 22.3.1\n",
            "[notice] To update, run: python.exe -m pip install --upgrade pip\n"
          ]
        }
      ],
      "source": [
        "!pip install git+https://github.com/haven-jeon/PyKoSpacing.git\n",
        "from pykospacing import Spacing\n",
        "spacing = Spacing()"
      ]
    },
    {
      "cell_type": "code",
      "execution_count": null,
      "metadata": {
        "id": "rSwA6W3c1yro",
        "outputId": "dc2b1ec5-2169-4f3d-e322-6bd9fac3c192"
      },
      "outputs": [
        {
          "name": "stdout",
          "output_type": "stream",
          "text": [
            "Collecting PyPDF2\n",
            "  Downloading pypdf2-2.12.1-py3-none-any.whl (222 kB)\n",
            "     -------------------------------------- 222.8/222.8 kB 4.5 MB/s eta 0:00:00\n",
            "Requirement already satisfied: typing_extensions>=3.10.0.0 in c:\\users\\jeongwan\\anaconda3\\lib\\site-packages (from PyPDF2) (3.10.0.2)\n",
            "Installing collected packages: PyPDF2\n",
            "Successfully installed PyPDF2-2.12.1\n",
            "\n",
            "[notice] A new release of pip available: 22.2 -> 22.3.1\n",
            "[notice] To update, run: python.exe -m pip install --upgrade pip\n"
          ]
        }
      ],
      "source": [
        "!pip install PyPDF2\n",
        "from PyPDF2 import PdfFileReader"
      ]
    },
    {
      "cell_type": "code",
      "execution_count": null,
      "metadata": {
        "id": "itpa1Wdf1yro"
      },
      "outputs": [],
      "source": [
        "def tostr(filename):\n",
        "    texts = ''\n",
        "    f = open(filename,'rb')\n",
        "    pdf = PdfFileReader(f)\n",
        "    pages = pdf.getNumPages()\n",
        "    for page in range(pages) :\n",
        "        text = pdf.pages[page].extractText()\n",
        "    \n",
        "        texts += text\n",
        "    return texts\n",
        "\n",
        "\n",
        "label=['학년도', #학년도 /학기\n",
        "'학수번호',  #학수번호-분반\n",
        "'이수구분', \n",
        "'교과목명',\n",
        "'성명',\n",
        "'수강대상학과',\n",
        "'선이수과목', #선이수과목(권장)\n",
        "'관련', #관련 도서 및 참고자료\n",
        "'제목',  #구분 제목 저자 발행년도 출판사\n",
        "'교재',\n",
        "'강좌관련자료', \n",
        "'강좌진행방법',\n",
        "'교과목목표', #교과목 목표\n",
        "'수업내용', #수업내용, 수업 핵심질문 수   업   내   용\n",
        "'과제물', \n",
        "'평가'] #평가요소 ,#평가방법\n",
        "\n",
        "\n",
        "def summary(r):\n",
        "    t=r.replace(' ','')  #.split(' ')\n",
        "    pin=[]\n",
        "    total=[]\n",
        "    for i in range (len(label)):\n",
        "        pin.append(t.index(label[i]))\n",
        "    for i in range(len(pin)-1):\n",
        "        total.append((t[pin[i]:pin[i+1]]))\n",
        "    total.append(t[pin[-1]:])\n",
        "    return total"
      ]
    },
    {
      "cell_type": "code",
      "execution_count": null,
      "metadata": {
        "id": "4TtxFqtR1yrp",
        "outputId": "7b31d4bb-5e1c-415a-aba9-b10acb15a50b"
      },
      "outputs": [
        {
          "name": "stdout",
          "output_type": "stream",
          "text": [
            "{'학년도': '기/2022/2', '학수번호': '분반-CNT3036', '이수구분': '전공', '교과목명': '가상증강현실제작실습/', '성명': '정종범', '수강대상학과': '글로벌융합학부컬처앤테크놀로지융합전공', '선이수과목': '권장()Clanguage', '관련': '도서및참고자료구분', '제목': '저자발행년도출판사', '교재': '실감형다시점차원영상의획득및처리3기술호요성외인32016진샘미디어', '강좌관련자료': 'MPEGimmersivevideo:https://mpeg-miv.org/', '강좌진행방법': '가상증강현실기술구현을위한기본영상처리기술영상취득색공간변환영상/(,,전후처리영상압축기술등및실습을진행합니다/,)SW.중심의국제표준화이슈를다룹니다MPEG-Immersive.기술및구현위주의내용을다루므로언어가익숙하면학습에도움이될수있습니다C.-Lecturesonvirtual/augmentedrealityimplementationandbasicsofvideoprocessing(videoacquisition,colorspaceconversion,videopre/post-processing,videocompression)andpracticesusingSW-LecturesonMPEG-Immersivebasedinternationalstandardizationissues-Technology&implementation-focusedlectures,andClanguagemightbehelpful-Termprojectsarerequired-Q&A', '교과목목표': '프로그래밍언어를학습하고유니티를활용하여콘텐츠를개발한다C#(Unity)VR/AR.전세계콘텐츠가유니티로제작될정도로많은회사전문가실무자들이70%VR/AR,,사용하고있다또한유니티는모바일게임비디오게임건축시각화.2D/3D,,,애니메이션과같은인터랙티브콘텐츠를만드는데도구로활용되고있다유니티는.다양한멀티플랫폼을지원하고있어서디바이스스마트폰콘텐츠등을HMD,PC,한번의개발로만들수있다본수업에서는이러한유니티를다루기위한.C#프로그래밍을배워본다융복합콘텐츠기획과목에서아트를제작한다면본과목은.VR프로그래밍언어를통해인터렉티브콘텐츠를개발하는데중점을둔다.', '수업내용': '핵심질문핵심(개념)주차1Virtual/augmentedrealityintroduction주차2Videocolorspaceintroduction주차3IntroductiontoUnity주차4Unity3Ddevelopmenttraining주차5Videocompression(1)주차6Videocompression(2)주차7360-degreevideoprocessing주차8중간고사주차9MPEGimmersivevideocodingstandard(1)주차10MPEGimmersivevideocodingstandard(2)주차11Immersivevideoacquisition주차12Subjectivequalityofimmersivevideo(1)주차13Subjectivequalityofimmersivevideo(2)주차14발표Termproject주차15기말고사', '과제물': '색공간처리다루기다루기등RGB/YUV(HDRTools),360Lib,MIVreferenceSW다수', '평가': '요소출석과제토론/중간시험기말시험평소학습발표기타합계30%30%30%10%100%평가방법-중간고사기말고사30%,30%-과제발표30%,10%'}\n"
          ]
        }
      ],
      "source": [
        "import pprint\n",
        "file1=tostr(\"C:\\\\Users\\\\JeongWan\\\\OneDrive - 성균관대학교\\\\2022\\\\2022-2\\\\문화콘텐츠와자연어처리\\\\기말프로젝트\\\\가상현실.pdf\")\n",
        "file2=tostr(\"C:\\\\Users\\\\JeongWan\\\\OneDrive - 성균관대학교\\\\2022\\\\2022-2\\\\문화콘텐츠와자연어처리\\\\기말프로젝트\\\\데베개.pdf\")\n",
        "file3=tostr(\"C:\\\\Users\\\\JeongWan\\\\OneDrive - 성균관대학교\\\\2022\\\\2022-2\\\\문화콘텐츠와자연어처리\\\\기말프로젝트\\\\문화테크놀로지2.pdf\")\n",
        "\n",
        "\n",
        "s1=summary(file1)\n",
        "s2=summary(file2)\n",
        "s3=summary(file3)\n",
        "\n",
        "def info(s):\n",
        "    infodict={}\n",
        "    for i in range(len(label)):\n",
        "        infodict[label[i]]=s[i].lstrip(label[i])\n",
        "    return infodict\n",
        "\n",
        "s1=info(s1)\n",
        "s2=info(s2)\n",
        "s3=info(s3)\n",
        "print(s1)\n"
      ]
    },
    {
      "cell_type": "markdown",
      "metadata": {
        "id": "WYUlKs_Y1yrq"
      },
      "source": [
        "# 2. 에브리타임을 통한 강의 추천 받기"
      ]
    },
    {
      "cell_type": "code",
      "execution_count": null,
      "metadata": {
        "id": "GiUZFkjw1yrq",
        "outputId": "a7f31e74-e988-47e5-f747-ba69779fad59"
      },
      "outputs": [
        {
          "name": "stdout",
          "output_type": "stream",
          "text": [
            "Requirement already satisfied: selenium in c:\\users\\jeongwan\\anaconda3\\lib\\site-packages (4.6.1)\n",
            "Requirement already satisfied: urllib3[socks]~=1.26 in c:\\users\\jeongwan\\anaconda3\\lib\\site-packages (from selenium) (1.26.7)\n",
            "Requirement already satisfied: trio-websocket~=0.9 in c:\\users\\jeongwan\\anaconda3\\lib\\site-packages (from selenium) (0.9.2)\n",
            "Requirement already satisfied: certifi>=2021.10.8 in c:\\users\\jeongwan\\anaconda3\\lib\\site-packages (from selenium) (2021.10.8)\n",
            "Requirement already satisfied: trio~=0.17 in c:\\users\\jeongwan\\anaconda3\\lib\\site-packages (from selenium) (0.22.0)\n",
            "Requirement already satisfied: exceptiongroup>=1.0.0rc9 in c:\\users\\jeongwan\\anaconda3\\lib\\site-packages (from trio~=0.17->selenium) (1.0.4)\n",
            "Requirement already satisfied: sortedcontainers in c:\\users\\jeongwan\\anaconda3\\lib\\site-packages (from trio~=0.17->selenium) (2.4.0)\n",
            "Requirement already satisfied: idna in c:\\users\\jeongwan\\anaconda3\\lib\\site-packages (from trio~=0.17->selenium) (3.2)\n",
            "Requirement already satisfied: attrs>=19.2.0 in c:\\users\\jeongwan\\anaconda3\\lib\\site-packages (from trio~=0.17->selenium) (21.2.0)\n",
            "Requirement already satisfied: async-generator>=1.9 in c:\\users\\jeongwan\\anaconda3\\lib\\site-packages (from trio~=0.17->selenium) (1.10)\n",
            "Requirement already satisfied: sniffio in c:\\users\\jeongwan\\anaconda3\\lib\\site-packages (from trio~=0.17->selenium) (1.2.0)\n",
            "Requirement already satisfied: outcome in c:\\users\\jeongwan\\anaconda3\\lib\\site-packages (from trio~=0.17->selenium) (1.2.0)\n",
            "Requirement already satisfied: cffi>=1.14 in c:\\users\\jeongwan\\anaconda3\\lib\\site-packages (from trio~=0.17->selenium) (1.14.6)\n",
            "Requirement already satisfied: wsproto>=0.14 in c:\\users\\jeongwan\\anaconda3\\lib\\site-packages (from trio-websocket~=0.9->selenium) (1.2.0)\n",
            "Requirement already satisfied: PySocks!=1.5.7,<2.0,>=1.5.6 in c:\\users\\jeongwan\\anaconda3\\lib\\site-packages (from urllib3[socks]~=1.26->selenium) (1.7.1)\n",
            "Requirement already satisfied: pycparser in c:\\users\\jeongwan\\anaconda3\\lib\\site-packages (from cffi>=1.14->trio~=0.17->selenium) (2.20)\n",
            "Requirement already satisfied: h11<1,>=0.9.0 in c:\\users\\jeongwan\\anaconda3\\lib\\site-packages (from wsproto>=0.14->trio-websocket~=0.9->selenium) (0.14.0)\n",
            "\n",
            "[notice] A new release of pip available: 22.2 -> 22.3.1\n",
            "[notice] To update, run: python.exe -m pip install --upgrade pip\n",
            "Note: you may need to restart the kernel to use updated packages.\n"
          ]
        }
      ],
      "source": [
        "pip install selenium"
      ]
    },
    {
      "cell_type": "code",
      "execution_count": null,
      "metadata": {
        "id": "HTs1JQvy1yrr"
      },
      "outputs": [],
      "source": [
        "from selenium import webdriver\n",
        "from selenium.webdriver.chrome.service import Service\n",
        "from webdriver_manager.chrome import ChromeDriverManager\n",
        "import time\n",
        "from selenium.webdriver.support.ui import WebDriverWait\n",
        "from selenium.webdriver.support import expected_conditions as EC\n",
        "from selenium.webdriver.common.keys import Keys\n",
        "from selenium.webdriver.common.by import By\n",
        "\n",
        "import os\n",
        "import pandas as pd\n",
        "import datetime\n",
        "\n",
        "\n",
        "def set_chrome_driver():\n",
        "    chrome_options = webdriver.ChromeOptions()\n",
        "    driver = webdriver.Chrome(service=Service(ChromeDriverManager().install()), options=chrome_options)\n",
        "    return driver\n",
        "\n",
        "    \n",
        "def doScrollDown(whileSeconds):\n",
        "    start = datetime.datetime.now()\n",
        "    end = start + datetime.timedelta(seconds=whileSeconds)\n",
        "    while True:\n",
        "        driver.execute_script('window.scrollTo(0, document.body.scrollHeight);')\n",
        "        time.sleep(1)\n",
        "        if datetime.datetime.now() > end:\n",
        "            break\n",
        "\n",
        "def hand_scroll(amount):\n",
        "    try:\n",
        "        scroll = driver.find_element(By.CLASS_NAME, 'info_tab') \n",
        " \n",
        "        # ActionChains생성\n",
        "        action = ActionChains(driver)\n",
        " \n",
        "        # 클릭하고 잡기\n",
        "        action.click_and_hold(scroll).perform()\n",
        " \n",
        "        # 마우스 내리기\n",
        " \n",
        "        action.move_by_offset(0, amount).perform()\n",
        " \n",
        "        # 마우스 놓아주기\n",
        "        action.release(scroll).perform()\n",
        "    except:  # 끝 도달시\n",
        "        return False            \n",
        "\n",
        "    \n",
        "    \n",
        "    \n",
        "#에브리타임 전체 강의실 페이지로 넘어가는 함수 \n",
        "def everytime_crawling_setting():\n",
        "    \n",
        "    global driver\n",
        "    driver=set_chrome_driver()\n",
        "    \n",
        "    driver.get(\"http://everytime.kr/login\")\n",
        "    driver.implicitly_wait(3)\n",
        "\n",
        "\n",
        "    #1. 에브리타임 페이지 접속 및 로그임\n",
        "    driver.find_element(By.NAME, 'userid').send_keys('nhy7667')\n",
        "    driver.find_element(By.NAME, 'password').send_keys('everytime$48129$')\n",
        "    driver.find_element(By.XPATH, '//*[@class=\"submit\"]/input').click()\n",
        "    driver.implicitly_wait(10)\n",
        "\n",
        "    #2. 강의평가 페이지로 넘어가기\n",
        "    driver.get(f'https://everytime.kr/lecture')\n",
        "    driver.implicitly_wait(3)\n",
        "\n",
        "    \n",
        "    \n",
        "    \n",
        "#과목명과 교수명 입력하면 해당 강의평가 크롤링하는 함수, 로컬 폴더에 데이터프레임 저장되도록 함.\n",
        "def get_texts():\n",
        "    global driver\n",
        "\n",
        "    subject=input('과목명을 입력하세요: ')\n",
        "    professor=input('교수명을 입력하세요: ')\n",
        "    driver.find_element(By.NAME, 'keyword').send_keys(subject)\n",
        "    driver.find_element(By.XPATH, '//*[@id=\"container\"]/form/input[2]').click()\n",
        "    doScrollDown(5)\n",
        "    prof_names=driver.find_elements(By.CLASS_NAME, 'professor')\n",
        "    web_lectures=driver.find_elements(By.CLASS_NAME, 'lecture')\n",
        "\n",
        "    for i in range(len(prof_names)):\n",
        "        prof_names[i]=prof_names[i].text\n",
        "    #print(prof_names)\n",
        "\n",
        "    web_hrefs=[]\n",
        "    for lecture in web_lectures:\n",
        "        web_href=lecture.get_attribute('href')\n",
        "        web_hrefs.append(web_href)\n",
        "    #print(web_hrefs)\n",
        "\n",
        "    for i in range(len(prof_names)):\n",
        "        if professor == prof_names[i]:\n",
        "            href=web_hrefs[i]\n",
        "            href=href[-7:]\n",
        "\n",
        "    if '/' in href:\n",
        "        href=href.strip('/')\n",
        "\n",
        "    driver.get(f'https://everytime.kr/lecture/view/{href}?tab=article')\n",
        "    driver.implicitly_wait(3)\n",
        "\n",
        "\n",
        "    #3. 강의평가 크롤링\n",
        "\n",
        "    #infos=수강학기 리스트, texts=강의평가 리스트\n",
        "    texts=driver.find_elements(By.CLASS_NAME, 'text')\n",
        "    infos=driver.find_elements(By.CLASS_NAME, 'info')\n",
        "    infos.pop(0) #첫번째 값 (공백) 제거\n",
        "\n",
        "    for i in range(len(infos)):\n",
        "        infos[i]=infos[i].text\n",
        "        infos[i]=infos[i][:2]+'-'+infos[i][4:5]\n",
        "        texts[i]=texts[i].text\n",
        "\n",
        "    #rates=평점 길이 리스트 => rate_nums=평점 1~5로 바꾼 리스트\n",
        "    rates=driver.find_elements(By.CLASS_NAME, 'on') #width 값 뽑아내기\n",
        "    rates.pop(0) #첫 번째 요소가 총 평점이라 제외\n",
        "    rate_nums=[]\n",
        "    for rate in rates:\n",
        "        rate_num = rate.get_attribute('style')\n",
        "        rate_num = rate_num[-5:-2]\n",
        "        rate_num = rate_num.replace(\" \", \"\")\n",
        "        rate_num = int(rate_num)/20\n",
        "        rate_nums.append(rate_num)\n",
        "\n",
        "    df=pd.DataFrame({'수강학기':infos,\n",
        "                     '강의평가':texts,\n",
        "                     '평점':rate_nums, \n",
        "                     '감성분석':''})\n",
        "\n",
        "    df.to_csv(f'C:/Users/JeongWan/OneDrive - 성균관대학교/2022/2022-2/문화콘텐츠와자연어처리/기말프로젝트/{subject}_{professor}.csv')\n",
        "    df2=pd.read_csv(f'C:/Users/JeongWan/OneDrive - 성균관대학교/2022/2022-2/문화콘텐츠와자연어처리/기말프로젝트/{subject}_{professor}.csv', \n",
        "                   index_col=0) #index_col=0 을 해줘야 이상한 열(unnamed: 0)이 뜨지 않는다.\n",
        "    \n",
        "    \n",
        "    \n",
        "    \n",
        "    \n",
        "#과목명 입력했을 때 교수명, 과제, 조모임, 성적 등 요소 크롤링하는 코드, 반환값으로 정리된 데이터프레임\n",
        "def get_lecture_elements(subject):\n",
        "    \n",
        "    global driver\n",
        "    driver.get(f'https://everytime.kr/lecture')\n",
        "    driver.implicitly_wait(3)\n",
        "\n",
        "    driver.find_element(By.NAME, 'keyword').send_keys(subject)\n",
        "    driver.find_element(By.XPATH, '//*[@id=\"container\"]/form/input[2]').click()\n",
        "    doScrollDown(5)\n",
        "    web_lectures=driver.find_elements(By.CLASS_NAME, 'lecture')\n",
        "\n",
        "    web_hrefs=[]\n",
        "    for lecture in web_lectures:\n",
        "        web_href=lecture.get_attribute('href')\n",
        "        web_hrefs.append(web_href)\n",
        "\n",
        "    df=pd.DataFrame(columns=['과목명', '교수명', '과제', '조모임', '성적', '출결', '시험'])    \n",
        "\n",
        "    for web_href in web_hrefs:    \n",
        "        href=web_href[-7:]\n",
        "        if '/' in href:\n",
        "            href=href.strip('/')\n",
        "        driver.get(f'https://everytime.kr/lecture/view/{href}')\n",
        "        driver.implicitly_wait(3)\n",
        "        hand_scroll(100)\n",
        "        \n",
        "        try:\n",
        "            prof=driver.find_element(By.XPATH, '/html/body/div/div/div[2]/div/section[1]/div[2]/div/a/span')\n",
        "        except:\n",
        "            prof=driver.find_element(By.CLASS_NAME, 'text')\n",
        "\n",
        "        try:\n",
        "            winners=driver.find_elements(By.CLASS_NAME, 'winner')\n",
        "            winners=winners[2::3]\n",
        "\n",
        "            majoritys=driver.find_elements(By.CLASS_NAME, 'majority')\n",
        "\n",
        "            result=[]\n",
        "            result.append(subject)\n",
        "            result.append(prof.text)\n",
        "\n",
        "            for e in winners:\n",
        "                result.append(e.text)\n",
        "            for e in majoritys:\n",
        "                result.append(e.text)\n",
        "\n",
        "            df=df.append(pd.Series(result, index=df.columns), ignore_index=True)\n",
        "\n",
        "        except:\n",
        "            pass\n",
        "        \n",
        "    return df\n",
        "\n",
        "    \n",
        "\n",
        "#여러 수업 열리는 과목의 수업 추천해주기    \n",
        "def lec_prof_recommendation():\n",
        "    subject=input('원하는 과목명을 입력하세요: ')\n",
        "    everytime_crawling_setting()\n",
        "    df=get_lecture_elements(subject)\n",
        "    \n",
        "    while True:\n",
        "        q1=input(\"원하는 세부요소(과제, 조모임, 성적, 출결, 시험)를 하나 입력하세요: \")\n",
        "        if q1=='과제':\n",
        "            q2=input('과제 (많음/보통/적음) 선택하세요: ')\n",
        "        elif q1=='조모임':\n",
        "            q2=input('조모임 (많음/보통/없음) 선택하세요: ')\n",
        "        elif q1=='성적':\n",
        "            q2=input('성적 (너그러움/보통/깐깐함) 선택하세요: ')\n",
        "        elif q1=='출결':\n",
        "            q2=input('출결 (직접호명/전자출결) 선택하세요: ')\n",
        "        elif q1=='시험':\n",
        "            q2=input('시험 (한 번/두 번) 선택하세요: ')\n",
        "\n",
        "        df = df[df[q1] == q2]\n",
        "\n",
        "        user=input(\"원하는 세부요소가 더 있으신가요? (Y/N) \")\n",
        "        if user=='Y' or user=='y':\n",
        "            continue\n",
        "        else:\n",
        "            break\n",
        "        \n",
        "    print(df['교수명'])  \n",
        "\n",
        "#2.강의 추천에 이어 과목명과 교수명 해당 강의평가 크롤링하는 함수, 데이터프레임 반환\n",
        "def get_texts2(subject, professor):\n",
        "    everytime_crawling_setting()\n",
        "\n",
        "    global driver\n",
        "\n",
        "    driver.find_element(By.NAME, 'keyword').send_keys(subject)\n",
        "    driver.find_element(By.XPATH, '//*[@id=\"container\"]/form/input[2]').click()\n",
        "    doScrollDown(5)\n",
        "    prof_names=driver.find_elements(By.CLASS_NAME, 'professor')\n",
        "    web_lectures=driver.find_elements(By.CLASS_NAME, 'lecture')\n",
        "\n",
        "    for i in range(len(prof_names)):\n",
        "        prof_names[i]=prof_names[i].text\n",
        "    #print(prof_names)\n",
        "\n",
        "    web_hrefs=[]\n",
        "    for lecture in web_lectures:\n",
        "        web_href=lecture.get_attribute('href')\n",
        "        web_hrefs.append(web_href)\n",
        "    #print(web_hrefs)\n",
        "\n",
        "    for i in range(len(prof_names)):\n",
        "        if professor == prof_names[i]:\n",
        "            href=web_hrefs[i]\n",
        "            href=href[-7:]\n",
        "\n",
        "    if '/' in href:\n",
        "        href=href.strip('/')\n",
        "\n",
        "    driver.get(f'https://everytime.kr/lecture/view/{href}?tab=article')\n",
        "    driver.implicitly_wait(3)\n",
        "\n",
        "    #3. 강의평가 크롤링\n",
        "\n",
        "    #infos=수강학기 리스트, texts=강의평가 리스트\n",
        "    texts=driver.find_elements(By.CLASS_NAME, 'text')\n",
        "\n",
        "    for i in range(len(texts)):\n",
        "        texts[i]=texts[i].text\n",
        "\n",
        "    df=pd.DataFrame({'강의평가':texts})\n",
        "    return df"
      ]
    },
    {
      "cell_type": "markdown",
      "metadata": {
        "id": "g2jIKZgM1yrt"
      },
      "source": [
        "# 3. 감성분석 모델"
      ]
    },
    {
      "cell_type": "markdown",
      "source": [
        "### 감성분석 모델은 부득이하게 구글 colab에서 작성되었습니다."
      ],
      "metadata": {
        "id": "nhCWCQcI3B4C"
      }
    },
    {
      "cell_type": "code",
      "source": [
        "!apt-get update\n",
        "!apt-get install g++ openjdk-8-jdk python-dev python3-dev\n",
        "!pip3 install JPype1-py3\n",
        "!pip3 install konlpy"
      ],
      "metadata": {
        "id": "9CeygeiVl-mH"
      },
      "execution_count": null,
      "outputs": []
    },
    {
      "cell_type": "code",
      "source": [
        "from google.colab import drive\n",
        "drive.mount('/content/drive')"
      ],
      "metadata": {
        "id": "U8BoiQdejQjw"
      },
      "execution_count": null,
      "outputs": []
    },
    {
      "cell_type": "code",
      "source": [
        "import json\n",
        "import pandas as pd\n",
        "import numpy as np\n",
        "from konlpy.tag import Komoran\n",
        "from konlpy.tag import Twitter\n",
        "from time import time\n",
        "import pickle\n",
        "import os\n",
        "import seaborn as sns\n",
        "import matplotlib.pyplot as plt\n",
        "from nltk.corpus import stopwords \n",
        "from nltk.tokenize import word_tokenize \n",
        "from sklearn.model_selection import train_test_split"
      ],
      "metadata": {
        "id": "YihYKcRGhL3B"
      },
      "execution_count": null,
      "outputs": []
    },
    {
      "cell_type": "code",
      "source": [
        "df1 = pd.read_csv(\"/content/drive/MyDrive/문콘/기말 프로젝트/강평csv파일/AI기초와활용_김재광.csv\", index_col = 0)\n",
        "df2 = pd.read_csv(\"/content/drive/MyDrive/문콘/기말 프로젝트/강평csv파일/데이터베이스개론_정하림.csv\", index_col = 0)\n",
        "df3 = pd.read_csv(\"/content/drive/MyDrive/문콘/기말 프로젝트/강평csv파일/언어공학과문화콘텐츠_구영은.csv\", index_col = 0)\n",
        "df4 = pd.read_csv(\"/content/drive/MyDrive/문콘/기말 프로젝트/강평csv파일/컴퓨터구조및시스템_윤인식.csv\", index_col = 0)\n",
        "df5 = pd.read_csv(\"/content/drive/MyDrive/문콘/기말 프로젝트/강평csv파일/컴퓨팅사고와SW코딩_지정은.csv\", index_col = 0)\n",
        "df6 = pd.read_csv('https://raw.githubusercontent.com/guymoon/evrytime-emotion-prediction/master/data/%EA%B0%95%EB%8C%80%EC%97%90%ED%83%80.csv', index_col=0)\n",
        "df7 = pd.read_csv('https://raw.githubusercontent.com/guymoon/evrytime-emotion-prediction/master/data/%EC%88%AD%EC%8B%A4%EC%97%90%ED%83%80.csv', index_col=0)\n",
        "df8 = pd.read_csv('https://raw.githubusercontent.com/guymoon/evrytime-emotion-prediction/master/data/%EA%B1%B4%EB%8C%80%EC%97%90%ED%83%80.csv', index_col=0)\n",
        "df9 = pd.read_csv('https://raw.githubusercontent.com/guymoon/evrytime-emotion-prediction/master/data/%ED%95%9C%EC%84%B1%EC%97%90%ED%83%80.csv', index_col=0)\n",
        "df10 = pd.read_csv('https://raw.githubusercontent.com/guymoon/evrytime-emotion-prediction/master/data/%EA%B4%91%EC%9A%B4%EC%97%90%ED%83%80.csv', index_col=0)\n",
        "print(df1.head())\n",
        "print(df6.head())"
      ],
      "metadata": {
        "colab": {
          "base_uri": "https://localhost:8080/"
        },
        "id": "UbnEC2AUg6xy",
        "outputId": "2a1635fe-7c83-4be6-e68b-89a53f1c81d4"
      },
      "execution_count": null,
      "outputs": [
        {
          "output_type": "stream",
          "name": "stdout",
          "text": [
            "   수강학기                                               강의평가   평점\n",
            "0  22-2  진짜 왜 배우는지 모르겠는 과목………ㅜㅜ\\n배우다보면 현타오고\\n뭐 약간 잘못해도 ...  3.0\n",
            "1  22-2  14,15주 과제가 중요한데 그만큼 시간 오래 걸려요.\\nAI 기초와 활용이긴 한데...  4.0\n",
            "2  22-1  사실 아무리 설명을 들을려고 해도 잘 안 들리더라고요... 인공지능이 무섭고 어려운...  4.0\n",
            "3  22-여  도전학기로 들었음.\\n이게 왜 필수교양인지 모르겠음.\\n앞에4주는 코딩관련 과제 뒤...  3.0\n",
            "4  22-2  과제 실기 3번 정도인데\\n조금 실수해도 점수가 많이 깎여서 에쁠 받기 힘드네요.....  4.0\n",
            "  Prof        Lec  Star                                            Reviews\n",
            "0  김동언    한국어문화입문     4  이 수업은 1교시 아침부터 기어나가야한다는 슬픔과 과제 폭탄으로부터 버티겠단 마음가...\n",
            "1  심정연  미래기술과인공지능     4  프린트물 달달외우면 시험은 어렵지 않을 것 같은데 그 프린트물 양이 ㅈㄴ 많습니다 ...\n",
            "2  오대혁   글로벌상거래관리     5  오대혁 교수님 강의는 꼭 들어봐야함 이때까지 수강했던 강의 중 가장 재밌게 수업들었...\n",
            "3  김광휘       공학수학     4  좀 졸리지만 교수님이 정말 열정적이심 난도는 수학을 웬만큼 하면 쉬울것 같은데 문과...\n",
            "4  주영도    C프로그래밍I     5  좋았습니다! 프로그래밍에 대해서 정말 하나도 몰랐는데 잘 가르쳐주셨습니다. 수업은 ...\n"
          ]
        }
      ]
    },
    {
      "cell_type": "code",
      "source": [
        "StopWords = ['이', '있', '하', '것', '들', '그', '되', '수', '이', '보', '않', '없', '나',\n",
        "       '사람', '주', '아니', '등', '같', '우리', '때', '년', '가', '한', '지', '대하',\n",
        "       '오', '말', '일', '그렇', '위하', '때문', '그것', '두', '말하', '알', '그러나', '받',\n",
        "       '못하', '일', '그런', '또', '문제', '더', '사회', '많', '그리고', '좋', '크', '따르',\n",
        "       '중', '이', '있', '하', '것', '들', '그', '되', '수', '이', '보', '않', '없',\n",
        "       '나', '사람', '주', '아니', '등', '같', '우리', '때', '년', '가', '한', '지',\n",
        "       '대하', '오', '말', '일', '그렇', '위하', '때문', '그것', '두', '말하', '알', '그러나',\n",
        "       '받', '못하', '일', '그런', '또', '문제', '더', '사회', '많', '그리고', '좋', '크',\n",
        "       '따르', '중', '.', '을','도','는','...','..',',', '로','기','에','은','는','함','임','!',\"\\n\"]"
      ],
      "metadata": {
        "id": "C9DUMXVhkFNO"
      },
      "execution_count": null,
      "outputs": []
    },
    {
      "cell_type": "code",
      "source": [
        "TotalDf1 = pd.concat([df1, df2, df3, df4, df5])\n",
        "TotalDf2 = pd.concat([df6, df7, df8, df9, df10])\n",
        "TotalDf1 = TotalDf1.iloc[:, 1:3]\n",
        "TotalDf2 = TotalDf2.iloc[:, 2:4]\n",
        "TotalDf1.columns = [\"Reviews\", \"Star\"]\n",
        "TotalDf2 = TotalDf2[[\"Reviews\", \"Star\"]]"
      ],
      "metadata": {
        "id": "AOcjF-9jpefn"
      },
      "execution_count": null,
      "outputs": []
    },
    {
      "cell_type": "code",
      "source": [
        "TotalDf = pd.concat([TotalDf1, TotalDf2])\n",
        "TotalDf.columns = ['review', 'rating']\n",
        "TotalDf"
      ],
      "metadata": {
        "colab": {
          "base_uri": "https://localhost:8080/",
          "height": 424
        },
        "id": "cXm7wvPFkw3P",
        "outputId": "b885a48b-9a28-4334-f1cc-8f45118bf805"
      },
      "execution_count": null,
      "outputs": [
        {
          "output_type": "execute_result",
          "data": {
            "text/plain": [
              "                                                review  rating\n",
              "0    진짜 왜 배우는지 모르겠는 과목………ㅜㅜ\\n배우다보면 현타오고\\n뭐 약간 잘못해도 ...     3.0\n",
              "1    14,15주 과제가 중요한데 그만큼 시간 오래 걸려요.\\nAI 기초와 활용이긴 한데...     4.0\n",
              "2    사실 아무리 설명을 들을려고 해도 잘 안 들리더라고요... 인공지능이 무섭고 어려운...     4.0\n",
              "3    도전학기로 들었음.\\n이게 왜 필수교양인지 모르겠음.\\n앞에4주는 코딩관련 과제 뒤...     3.0\n",
              "4    과제 실기 3번 정도인데\\n조금 실수해도 점수가 많이 깎여서 에쁠 받기 힘드네요.....     4.0\n",
              "..                                                 ...     ...\n",
              "194               수업 듣시도 좋았어요!! 과재도 편하구요 시험도 공부한대로나오ㅓ요     5.0\n",
              "195  1.2학기 전부 들어본 결과. 출튀 가능. 수업 시간도 꽉 안채움. 중간고사 이후 ...     5.0\n",
              "196      학점만 얻어갈 수 있는 강의...1년동안 전자기학을 배웠지만 알아간 건 거의 없다     3.0\n",
              "197  시험 어려움,  휴강은 많은데 휴강하는 대신 전시회 갔다와서 보고서 6페이지 써서 ...     1.0\n",
              "198  과제는 3-4번 정도 있지만 자료조사하는거라 어렵지 않고 또 교수님이 안보십니다.....     5.0\n",
              "\n",
              "[1084 rows x 2 columns]"
            ],
            "text/html": [
              "\n",
              "  <div id=\"df-a46eb6e9-8e69-4af7-9373-cd7f18003256\">\n",
              "    <div class=\"colab-df-container\">\n",
              "      <div>\n",
              "<style scoped>\n",
              "    .dataframe tbody tr th:only-of-type {\n",
              "        vertical-align: middle;\n",
              "    }\n",
              "\n",
              "    .dataframe tbody tr th {\n",
              "        vertical-align: top;\n",
              "    }\n",
              "\n",
              "    .dataframe thead th {\n",
              "        text-align: right;\n",
              "    }\n",
              "</style>\n",
              "<table border=\"1\" class=\"dataframe\">\n",
              "  <thead>\n",
              "    <tr style=\"text-align: right;\">\n",
              "      <th></th>\n",
              "      <th>review</th>\n",
              "      <th>rating</th>\n",
              "    </tr>\n",
              "  </thead>\n",
              "  <tbody>\n",
              "    <tr>\n",
              "      <th>0</th>\n",
              "      <td>진짜 왜 배우는지 모르겠는 과목………ㅜㅜ\\n배우다보면 현타오고\\n뭐 약간 잘못해도 ...</td>\n",
              "      <td>3.0</td>\n",
              "    </tr>\n",
              "    <tr>\n",
              "      <th>1</th>\n",
              "      <td>14,15주 과제가 중요한데 그만큼 시간 오래 걸려요.\\nAI 기초와 활용이긴 한데...</td>\n",
              "      <td>4.0</td>\n",
              "    </tr>\n",
              "    <tr>\n",
              "      <th>2</th>\n",
              "      <td>사실 아무리 설명을 들을려고 해도 잘 안 들리더라고요... 인공지능이 무섭고 어려운...</td>\n",
              "      <td>4.0</td>\n",
              "    </tr>\n",
              "    <tr>\n",
              "      <th>3</th>\n",
              "      <td>도전학기로 들었음.\\n이게 왜 필수교양인지 모르겠음.\\n앞에4주는 코딩관련 과제 뒤...</td>\n",
              "      <td>3.0</td>\n",
              "    </tr>\n",
              "    <tr>\n",
              "      <th>4</th>\n",
              "      <td>과제 실기 3번 정도인데\\n조금 실수해도 점수가 많이 깎여서 에쁠 받기 힘드네요.....</td>\n",
              "      <td>4.0</td>\n",
              "    </tr>\n",
              "    <tr>\n",
              "      <th>...</th>\n",
              "      <td>...</td>\n",
              "      <td>...</td>\n",
              "    </tr>\n",
              "    <tr>\n",
              "      <th>194</th>\n",
              "      <td>수업 듣시도 좋았어요!! 과재도 편하구요 시험도 공부한대로나오ㅓ요</td>\n",
              "      <td>5.0</td>\n",
              "    </tr>\n",
              "    <tr>\n",
              "      <th>195</th>\n",
              "      <td>1.2학기 전부 들어본 결과. 출튀 가능. 수업 시간도 꽉 안채움. 중간고사 이후 ...</td>\n",
              "      <td>5.0</td>\n",
              "    </tr>\n",
              "    <tr>\n",
              "      <th>196</th>\n",
              "      <td>학점만 얻어갈 수 있는 강의...1년동안 전자기학을 배웠지만 알아간 건 거의 없다</td>\n",
              "      <td>3.0</td>\n",
              "    </tr>\n",
              "    <tr>\n",
              "      <th>197</th>\n",
              "      <td>시험 어려움,  휴강은 많은데 휴강하는 대신 전시회 갔다와서 보고서 6페이지 써서 ...</td>\n",
              "      <td>1.0</td>\n",
              "    </tr>\n",
              "    <tr>\n",
              "      <th>198</th>\n",
              "      <td>과제는 3-4번 정도 있지만 자료조사하는거라 어렵지 않고 또 교수님이 안보십니다.....</td>\n",
              "      <td>5.0</td>\n",
              "    </tr>\n",
              "  </tbody>\n",
              "</table>\n",
              "<p>1084 rows × 2 columns</p>\n",
              "</div>\n",
              "      <button class=\"colab-df-convert\" onclick=\"convertToInteractive('df-a46eb6e9-8e69-4af7-9373-cd7f18003256')\"\n",
              "              title=\"Convert this dataframe to an interactive table.\"\n",
              "              style=\"display:none;\">\n",
              "        \n",
              "  <svg xmlns=\"http://www.w3.org/2000/svg\" height=\"24px\"viewBox=\"0 0 24 24\"\n",
              "       width=\"24px\">\n",
              "    <path d=\"M0 0h24v24H0V0z\" fill=\"none\"/>\n",
              "    <path d=\"M18.56 5.44l.94 2.06.94-2.06 2.06-.94-2.06-.94-.94-2.06-.94 2.06-2.06.94zm-11 1L8.5 8.5l.94-2.06 2.06-.94-2.06-.94L8.5 2.5l-.94 2.06-2.06.94zm10 10l.94 2.06.94-2.06 2.06-.94-2.06-.94-.94-2.06-.94 2.06-2.06.94z\"/><path d=\"M17.41 7.96l-1.37-1.37c-.4-.4-.92-.59-1.43-.59-.52 0-1.04.2-1.43.59L10.3 9.45l-7.72 7.72c-.78.78-.78 2.05 0 2.83L4 21.41c.39.39.9.59 1.41.59.51 0 1.02-.2 1.41-.59l7.78-7.78 2.81-2.81c.8-.78.8-2.07 0-2.86zM5.41 20L4 18.59l7.72-7.72 1.47 1.35L5.41 20z\"/>\n",
              "  </svg>\n",
              "      </button>\n",
              "      \n",
              "  <style>\n",
              "    .colab-df-container {\n",
              "      display:flex;\n",
              "      flex-wrap:wrap;\n",
              "      gap: 12px;\n",
              "    }\n",
              "\n",
              "    .colab-df-convert {\n",
              "      background-color: #E8F0FE;\n",
              "      border: none;\n",
              "      border-radius: 50%;\n",
              "      cursor: pointer;\n",
              "      display: none;\n",
              "      fill: #1967D2;\n",
              "      height: 32px;\n",
              "      padding: 0 0 0 0;\n",
              "      width: 32px;\n",
              "    }\n",
              "\n",
              "    .colab-df-convert:hover {\n",
              "      background-color: #E2EBFA;\n",
              "      box-shadow: 0px 1px 2px rgba(60, 64, 67, 0.3), 0px 1px 3px 1px rgba(60, 64, 67, 0.15);\n",
              "      fill: #174EA6;\n",
              "    }\n",
              "\n",
              "    [theme=dark] .colab-df-convert {\n",
              "      background-color: #3B4455;\n",
              "      fill: #D2E3FC;\n",
              "    }\n",
              "\n",
              "    [theme=dark] .colab-df-convert:hover {\n",
              "      background-color: #434B5C;\n",
              "      box-shadow: 0px 1px 3px 1px rgba(0, 0, 0, 0.15);\n",
              "      filter: drop-shadow(0px 1px 2px rgba(0, 0, 0, 0.3));\n",
              "      fill: #FFFFFF;\n",
              "    }\n",
              "  </style>\n",
              "\n",
              "      <script>\n",
              "        const buttonEl =\n",
              "          document.querySelector('#df-a46eb6e9-8e69-4af7-9373-cd7f18003256 button.colab-df-convert');\n",
              "        buttonEl.style.display =\n",
              "          google.colab.kernel.accessAllowed ? 'block' : 'none';\n",
              "\n",
              "        async function convertToInteractive(key) {\n",
              "          const element = document.querySelector('#df-a46eb6e9-8e69-4af7-9373-cd7f18003256');\n",
              "          const dataTable =\n",
              "            await google.colab.kernel.invokeFunction('convertToInteractive',\n",
              "                                                     [key], {});\n",
              "          if (!dataTable) return;\n",
              "\n",
              "          const docLinkHtml = 'Like what you see? Visit the ' +\n",
              "            '<a target=\"_blank\" href=https://colab.research.google.com/notebooks/data_table.ipynb>data table notebook</a>'\n",
              "            + ' to learn more about interactive tables.';\n",
              "          element.innerHTML = '';\n",
              "          dataTable['output_type'] = 'display_data';\n",
              "          await google.colab.output.renderOutput(dataTable, element);\n",
              "          const docLink = document.createElement('div');\n",
              "          docLink.innerHTML = docLinkHtml;\n",
              "          element.appendChild(docLink);\n",
              "        }\n",
              "      </script>\n",
              "    </div>\n",
              "  </div>\n",
              "  "
            ]
          },
          "metadata": {},
          "execution_count": 105
        }
      ]
    },
    {
      "cell_type": "code",
      "source": [
        "emotion_class = [\n",
        "    \"positive\" if TotalDf.iloc[i]['rating'] >= 4\n",
        "    else\n",
        "    \"negative\"\n",
        "    for i in range(TotalDf.shape[0])\n",
        "]"
      ],
      "metadata": {
        "id": "G9g3opxYk2k4"
      },
      "execution_count": null,
      "outputs": []
    },
    {
      "cell_type": "code",
      "source": [
        "TotalDf[\"class\"] = emotion_class\n",
        "TotalDf.head()"
      ],
      "metadata": {
        "colab": {
          "base_uri": "https://localhost:8080/",
          "height": 206
        },
        "id": "i6J5UFr3lh1C",
        "outputId": "d791a845-a716-4484-9c15-7424dec63b06"
      },
      "execution_count": null,
      "outputs": [
        {
          "output_type": "execute_result",
          "data": {
            "text/plain": [
              "                                              review  rating     class\n",
              "0  진짜 왜 배우는지 모르겠는 과목………ㅜㅜ\\n배우다보면 현타오고\\n뭐 약간 잘못해도 ...     3.0  negative\n",
              "1  14,15주 과제가 중요한데 그만큼 시간 오래 걸려요.\\nAI 기초와 활용이긴 한데...     4.0  positive\n",
              "2  사실 아무리 설명을 들을려고 해도 잘 안 들리더라고요... 인공지능이 무섭고 어려운...     4.0  positive\n",
              "3  도전학기로 들었음.\\n이게 왜 필수교양인지 모르겠음.\\n앞에4주는 코딩관련 과제 뒤...     3.0  negative\n",
              "4  과제 실기 3번 정도인데\\n조금 실수해도 점수가 많이 깎여서 에쁠 받기 힘드네요.....     4.0  positive"
            ],
            "text/html": [
              "\n",
              "  <div id=\"df-3cf24c26-3dc9-4cb9-85fa-4c023d1fbfde\">\n",
              "    <div class=\"colab-df-container\">\n",
              "      <div>\n",
              "<style scoped>\n",
              "    .dataframe tbody tr th:only-of-type {\n",
              "        vertical-align: middle;\n",
              "    }\n",
              "\n",
              "    .dataframe tbody tr th {\n",
              "        vertical-align: top;\n",
              "    }\n",
              "\n",
              "    .dataframe thead th {\n",
              "        text-align: right;\n",
              "    }\n",
              "</style>\n",
              "<table border=\"1\" class=\"dataframe\">\n",
              "  <thead>\n",
              "    <tr style=\"text-align: right;\">\n",
              "      <th></th>\n",
              "      <th>review</th>\n",
              "      <th>rating</th>\n",
              "      <th>class</th>\n",
              "    </tr>\n",
              "  </thead>\n",
              "  <tbody>\n",
              "    <tr>\n",
              "      <th>0</th>\n",
              "      <td>진짜 왜 배우는지 모르겠는 과목………ㅜㅜ\\n배우다보면 현타오고\\n뭐 약간 잘못해도 ...</td>\n",
              "      <td>3.0</td>\n",
              "      <td>negative</td>\n",
              "    </tr>\n",
              "    <tr>\n",
              "      <th>1</th>\n",
              "      <td>14,15주 과제가 중요한데 그만큼 시간 오래 걸려요.\\nAI 기초와 활용이긴 한데...</td>\n",
              "      <td>4.0</td>\n",
              "      <td>positive</td>\n",
              "    </tr>\n",
              "    <tr>\n",
              "      <th>2</th>\n",
              "      <td>사실 아무리 설명을 들을려고 해도 잘 안 들리더라고요... 인공지능이 무섭고 어려운...</td>\n",
              "      <td>4.0</td>\n",
              "      <td>positive</td>\n",
              "    </tr>\n",
              "    <tr>\n",
              "      <th>3</th>\n",
              "      <td>도전학기로 들었음.\\n이게 왜 필수교양인지 모르겠음.\\n앞에4주는 코딩관련 과제 뒤...</td>\n",
              "      <td>3.0</td>\n",
              "      <td>negative</td>\n",
              "    </tr>\n",
              "    <tr>\n",
              "      <th>4</th>\n",
              "      <td>과제 실기 3번 정도인데\\n조금 실수해도 점수가 많이 깎여서 에쁠 받기 힘드네요.....</td>\n",
              "      <td>4.0</td>\n",
              "      <td>positive</td>\n",
              "    </tr>\n",
              "  </tbody>\n",
              "</table>\n",
              "</div>\n",
              "      <button class=\"colab-df-convert\" onclick=\"convertToInteractive('df-3cf24c26-3dc9-4cb9-85fa-4c023d1fbfde')\"\n",
              "              title=\"Convert this dataframe to an interactive table.\"\n",
              "              style=\"display:none;\">\n",
              "        \n",
              "  <svg xmlns=\"http://www.w3.org/2000/svg\" height=\"24px\"viewBox=\"0 0 24 24\"\n",
              "       width=\"24px\">\n",
              "    <path d=\"M0 0h24v24H0V0z\" fill=\"none\"/>\n",
              "    <path d=\"M18.56 5.44l.94 2.06.94-2.06 2.06-.94-2.06-.94-.94-2.06-.94 2.06-2.06.94zm-11 1L8.5 8.5l.94-2.06 2.06-.94-2.06-.94L8.5 2.5l-.94 2.06-2.06.94zm10 10l.94 2.06.94-2.06 2.06-.94-2.06-.94-.94-2.06-.94 2.06-2.06.94z\"/><path d=\"M17.41 7.96l-1.37-1.37c-.4-.4-.92-.59-1.43-.59-.52 0-1.04.2-1.43.59L10.3 9.45l-7.72 7.72c-.78.78-.78 2.05 0 2.83L4 21.41c.39.39.9.59 1.41.59.51 0 1.02-.2 1.41-.59l7.78-7.78 2.81-2.81c.8-.78.8-2.07 0-2.86zM5.41 20L4 18.59l7.72-7.72 1.47 1.35L5.41 20z\"/>\n",
              "  </svg>\n",
              "      </button>\n",
              "      \n",
              "  <style>\n",
              "    .colab-df-container {\n",
              "      display:flex;\n",
              "      flex-wrap:wrap;\n",
              "      gap: 12px;\n",
              "    }\n",
              "\n",
              "    .colab-df-convert {\n",
              "      background-color: #E8F0FE;\n",
              "      border: none;\n",
              "      border-radius: 50%;\n",
              "      cursor: pointer;\n",
              "      display: none;\n",
              "      fill: #1967D2;\n",
              "      height: 32px;\n",
              "      padding: 0 0 0 0;\n",
              "      width: 32px;\n",
              "    }\n",
              "\n",
              "    .colab-df-convert:hover {\n",
              "      background-color: #E2EBFA;\n",
              "      box-shadow: 0px 1px 2px rgba(60, 64, 67, 0.3), 0px 1px 3px 1px rgba(60, 64, 67, 0.15);\n",
              "      fill: #174EA6;\n",
              "    }\n",
              "\n",
              "    [theme=dark] .colab-df-convert {\n",
              "      background-color: #3B4455;\n",
              "      fill: #D2E3FC;\n",
              "    }\n",
              "\n",
              "    [theme=dark] .colab-df-convert:hover {\n",
              "      background-color: #434B5C;\n",
              "      box-shadow: 0px 1px 3px 1px rgba(0, 0, 0, 0.15);\n",
              "      filter: drop-shadow(0px 1px 2px rgba(0, 0, 0, 0.3));\n",
              "      fill: #FFFFFF;\n",
              "    }\n",
              "  </style>\n",
              "\n",
              "      <script>\n",
              "        const buttonEl =\n",
              "          document.querySelector('#df-3cf24c26-3dc9-4cb9-85fa-4c023d1fbfde button.colab-df-convert');\n",
              "        buttonEl.style.display =\n",
              "          google.colab.kernel.accessAllowed ? 'block' : 'none';\n",
              "\n",
              "        async function convertToInteractive(key) {\n",
              "          const element = document.querySelector('#df-3cf24c26-3dc9-4cb9-85fa-4c023d1fbfde');\n",
              "          const dataTable =\n",
              "            await google.colab.kernel.invokeFunction('convertToInteractive',\n",
              "                                                     [key], {});\n",
              "          if (!dataTable) return;\n",
              "\n",
              "          const docLinkHtml = 'Like what you see? Visit the ' +\n",
              "            '<a target=\"_blank\" href=https://colab.research.google.com/notebooks/data_table.ipynb>data table notebook</a>'\n",
              "            + ' to learn more about interactive tables.';\n",
              "          element.innerHTML = '';\n",
              "          dataTable['output_type'] = 'display_data';\n",
              "          await google.colab.output.renderOutput(dataTable, element);\n",
              "          const docLink = document.createElement('div');\n",
              "          docLink.innerHTML = docLinkHtml;\n",
              "          element.appendChild(docLink);\n",
              "        }\n",
              "      </script>\n",
              "    </div>\n",
              "  </div>\n",
              "  "
            ]
          },
          "metadata": {},
          "execution_count": 107
        }
      ]
    },
    {
      "cell_type": "code",
      "source": [
        "#x,y 분할\n",
        "X = TotalDf['review']\n",
        "Y = TotalDf['class']\n",
        "\n",
        "#훈련, 테스트 분할 \n",
        "X_train, X_test, Y_train, Y_test = train_test_split(X, Y, test_size=0.2, random_state=321)"
      ],
      "metadata": {
        "id": "eglRyauKlu7O"
      },
      "execution_count": null,
      "outputs": []
    },
    {
      "cell_type": "code",
      "source": [
        "df = pd.DataFrame()\n",
        "df['review'] = X_train\n",
        "df['class'] = Y_train\n",
        "\n",
        "\n",
        "df_test = pd.DataFrame()\n",
        "df_test['X_test'] = X_test\n",
        "df_test['Y_test'] = Y_test"
      ],
      "metadata": {
        "id": "6Qe149tbl2lo"
      },
      "execution_count": null,
      "outputs": []
    },
    {
      "cell_type": "code",
      "source": [
        "twitter = Twitter()\n",
        "def tokenizer_twitter_morphs(doc):\n",
        "    return twitter.morphs(doc)\n",
        "\n",
        "def tokenizer_twitter_noun(doc):\n",
        "    return twitter.nouns(doc)\n",
        "\n",
        "def tokenizer_twitter_pos(doc):\n",
        "    return twitter.pos(doc, norm=True, stem=True)\n",
        "\n",
        "komoran = Komoran()\n",
        "\n",
        "def tokenizer_noun(doc):\n",
        "    return komoran.nouns(doc)\n",
        "\n",
        "def tokenizer_morphs(doc):\n",
        "    return komoran.morphs(doc)"
      ],
      "metadata": {
        "colab": {
          "base_uri": "https://localhost:8080/"
        },
        "id": "VNZpHpe8mD0j",
        "outputId": "dc841ac6-98de-45a0-fe9b-1f5cc78c130b"
      },
      "execution_count": null,
      "outputs": [
        {
          "output_type": "stream",
          "name": "stderr",
          "text": [
            "/usr/local/lib/python3.8/dist-packages/konlpy/tag/_okt.py:17: UserWarning: \"Twitter\" has changed to \"Okt\" since KoNLPy v0.4.5.\n",
            "  warn('\"Twitter\" has changed to \"Okt\" since KoNLPy v0.4.5.')\n"
          ]
        }
      ]
    },
    {
      "cell_type": "code",
      "source": [
        "# 학습데이터 리뷰 토큰화 하기\n",
        "df['token_review'] = df['review'].apply(tokenizer_twitter_morphs)\n",
        "\n",
        "#테스트 데이터프레임의 리뷰도 토큰화하기\n",
        "df_test['X_test_tokkened'] = df_test['X_test'].apply(tokenizer_twitter_morphs)\n",
        "\n",
        "tokens = [ t   for d in df['token_review']  for t in d if (not t in StopWords) and (t != '.')]\n",
        "tokens[:10]"
      ],
      "metadata": {
        "id": "F-Mvk7ylmQGX",
        "colab": {
          "base_uri": "https://localhost:8080/"
        },
        "outputId": "a967756a-3694-4c3c-fbd1-a4c96e86dbf1"
      },
      "execution_count": null,
      "outputs": [
        {
          "output_type": "execute_result",
          "data": {
            "text/plain": [
              "['꿀강', '이긴한데', '내', '기준', '으로', '에세이', '1', '번', '자기', '소개']"
            ]
          },
          "metadata": {},
          "execution_count": 111
        }
      ]
    },
    {
      "cell_type": "code",
      "source": [
        "import nltk\n",
        "nltk.download(\"all\")"
      ],
      "metadata": {
        "id": "rYIAldQTmhR1"
      },
      "execution_count": null,
      "outputs": []
    },
    {
      "cell_type": "code",
      "source": [
        "#토큰 데이터를 nltk.text \n",
        "text = nltk.Text(tokens, name = 'NMSC')"
      ],
      "metadata": {
        "id": "bvtIV8Ydm9C6"
      },
      "execution_count": null,
      "outputs": []
    },
    {
      "cell_type": "code",
      "source": [
        "from sklearn.feature_extraction.text import TfidfVectorizer\n",
        "from sklearn.naive_bayes import MultinomialNB\n",
        "from sklearn.linear_model import SGDClassifier\n",
        "from sklearn.pipeline import Pipeline\n",
        "from sklearn.metrics import accuracy_score"
      ],
      "metadata": {
        "id": "dxo9gLMTnIis"
      },
      "execution_count": null,
      "outputs": []
    },
    {
      "cell_type": "code",
      "source": [
        "#데이터 준비\n",
        "X_train = TotalDf.loc[:, 'review'].values\n",
        "y_train = TotalDf.loc[:, 'class'].values\n",
        "\n",
        "tfidf = TfidfVectorizer(tokenizer=tokenizer_morphs)\n",
        "\n",
        "MultinomialNB_pipeline = Pipeline([('vect', tfidf), ('nbc', MultinomialNB())])\n",
        "\n",
        "MultinomialNB_pipeline.fit(X_train, y_train)\n",
        "\n",
        "y_pred = MultinomialNB_pipeline.predict(df_test[\"X_test\"])"
      ],
      "metadata": {
        "id": "BRCAo6d9nNAQ"
      },
      "execution_count": null,
      "outputs": []
    },
    {
      "cell_type": "code",
      "source": [
        "rvdf = pd.read_csv(\"/content/drive/MyDrive/문콘/기말 프로젝트/강평csv파일/컴퓨팅사고와SW코딩_지정은.csv\") #추후실행시에는 시스템 실행 과정에서 결과로 나오는 데이터를 인풋으로 넣는다.\n",
        "reviews = rvdf[\"강의평가\"]\n",
        "m_list = []\n",
        "m_list.extend(list(reviews))\n",
        "m_list = np.array(m_list)\n",
        "emotion = list(MultinomialNB_pipeline.predict(m_list))\n",
        "print(\"긍정 :\",emotion.count(\"positive\"), \"부정 :\",emotion.count(\"negative\"))"
      ],
      "metadata": {
        "colab": {
          "base_uri": "https://localhost:8080/"
        },
        "id": "tDsj23Dlnfcc",
        "outputId": "262b38be-923b-4645-b287-9afe10c5e6d1"
      },
      "execution_count": null,
      "outputs": [
        {
          "output_type": "stream",
          "name": "stdout",
          "text": [
            "긍정 : 19 부정 : 1\n"
          ]
        }
      ]
    },
    {
      "cell_type": "code",
      "source": [
        "def isitbad(df) :\n",
        "  reviews = rvdf[\"강의평가\"]\n",
        "  m_list = []\n",
        "  m_list.extend(list(reviews))\n",
        "  m_list = np.array(m_list)\n",
        "  emotion = list(MultinomialNB_pipeline.predict(m_list))\n",
        "  p = emotion.count(\"positive\")\n",
        "  n = emotion.count(\"positive\")\n",
        "  print(f\"긍정적인 평가가 {p}개, 부정적인 평가가 {n}개 있습니다.\")\n",
        "  print(\"퍼센트로는 긍정적 평가 : %.1f%%, 부정적 평가 : %.1f%%입니다.\"%((p/len(emotion)*100),(n/len(emotion)*100)))"
      ],
      "metadata": {
        "id": "AL1xhXL15QEF"
      },
      "execution_count": null,
      "outputs": []
    },
    {
      "cell_type": "markdown",
      "metadata": {
        "id": "mZruZ0Xd1yru"
      },
      "source": [
        "# 4. 사용자 실행 과정"
      ]
    },
    {
      "cell_type": "code",
      "execution_count": null,
      "metadata": {
        "id": "m6oubGyg1yru",
        "outputId": "4084fd75-50d0-4287-fe65-131598281474"
      },
      "outputs": [
        {
          "name": "stdout",
          "output_type": "stream",
          "text": [
            "=============== 프로그램 시작 ===============\n",
            "1:강의계획서 요약 \t 2:강의 추천: 2\n",
            "원하는 과목명을 입력하세요: 성균논어\n",
            "원하는 세부요소(과제, 조모임, 성적, 출결, 시험)를 하나 입력하세요: 조모임\n",
            "조모임 (많음/보통/없음) 선택하세요: 없음\n",
            "원하는 세부요소가 더 있으신가요? (Y/N) n\n",
            "2     한성구\n",
            "3     이선경\n",
            "6     조춘영\n",
            "9     박종용\n",
            "10    이명심\n",
            "Name: 교수명, dtype: object\n"
          ]
        }
      ],
      "source": [
        "#@title 기본 제목 텍스트\n",
        "#프론트엔드\n",
        "def wantprint(word ,s):  #word : list\n",
        "    r=[]\n",
        "    target=set(word)&set(s.keys())\n",
        "    for t in target:\n",
        "        r.append(t+':'+spacing(s[t]))\n",
        "    return r\n",
        "\n",
        "result={}\n",
        "\n",
        "print('='*15,'프로그램 시작','='*15)\n",
        "service=input('[1:강의계획서 요약 \\t 2:강의추천] : ')\n",
        "if service.replace(' ','')=='1':\n",
        "    #모두보기/보고싶은것만 보기 중 선택\n",
        "    summaryoption=input('[1:전체보기 \\t 2:선택보기] : ')\n",
        "    if summaryoption.replace(' ','')=='1': #모두 보기\n",
        "        print(\"\")\n",
        "        pprint.pprint(s1) #모두 그대로 출력 \n",
        "        pprint.pprint(s2)\n",
        "        pprint.pprint(s3)\n",
        "    elif summaryoption.replace(' ','')=='2': #보고싶은 요소 선택 \n",
        "        print(\"\")\n",
        "        wants=input('''학년도/학수번호/이수구분/교과목명/성명/수강대상학과/선이수과목/관련/제목/교재/강좌관련자료/강좌진행방법\n",
        "   교과목목표/수업내용/과제물/평가''')\n",
        "        print(\"\")\n",
        "        want=wants.split(',')\n",
        "        result[s1['교과목명']]=(wantprint(want,s1))\n",
        "        result[s2['교과목명']]=(wantprint(want,s2))\n",
        "        result[s3['교과목명']]=(wantprint(want,s3))\n",
        "        pprint.pprint(result)\n",
        "elif service.replace(' ','')=='2':\n",
        "      lec_prof_recommendation()"
      ]
    },
    {
      "cell_type": "code",
      "source": [
        "sub_list=df['과목명'].values.tolist()\n",
        "prof_list=df['교수명'].values.tolist()\n",
        "#과목명과 교수명을 입력하여 강의평가 크롤링 및 감성분석 결과 반환\n",
        "for i in range(len(prof_list)):\n",
        "    evdata=get_texts2(sub_list[0], prof_list[i])\n",
        "    print(\"%s교수님의 강의평가 :\"%prof_list[i])\n",
        "    isitbad(evdata)"
      ],
      "metadata": {
        "colab": {
          "base_uri": "https://localhost:8080/"
        },
        "id": "LIeY_19S6ZEg",
        "outputId": "dee17a1f-7087-4e53-9fb0-649580a269ba"
      },
      "execution_count": null,
      "outputs": [
        {
          "output_type": "stream",
          "name": "stdout",
          "text": [
            "긍정적인 평가가 19개, 부정적인 평가가 1개 있습니다.\n",
            "퍼센트로는 긍정적 평가 : 95.0%, 부정적 평가 : 5.0%입니다.\n"
          ]
        }
      ]
    }
  ],
  "metadata": {
    "colab": {
      "provenance": []
    },
    "kernelspec": {
      "display_name": "Python 3 (ipykernel)",
      "language": "python",
      "name": "python3"
    },
    "language_info": {
      "codemirror_mode": {
        "name": "ipython",
        "version": 3
      },
      "file_extension": ".py",
      "mimetype": "text/x-python",
      "name": "python",
      "nbconvert_exporter": "python",
      "pygments_lexer": "ipython3",
      "version": "3.9.7"
    }
  },
  "nbformat": 4,
  "nbformat_minor": 0
}